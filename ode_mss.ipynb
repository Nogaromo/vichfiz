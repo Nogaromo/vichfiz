{
 "cells": [
  {
   "cell_type": "code",
   "execution_count": 1,
   "id": "e9946bd3",
   "metadata": {
    "ExecuteTime": {
     "end_time": "2022-11-18T13:08:42.809374Z",
     "start_time": "2022-11-18T13:08:29.946673Z"
    }
   },
   "outputs": [],
   "source": [
    "import numpy as np\n",
    "import matplotlib.pyplot as plt\n",
    "from scipy.integrate import odeint"
   ]
  },
  {
   "cell_type": "code",
   "execution_count": 2,
   "id": "73643f6e",
   "metadata": {
    "ExecuteTime": {
     "end_time": "2022-11-18T13:08:42.841384Z",
     "start_time": "2022-11-18T13:08:42.826380Z"
    }
   },
   "outputs": [],
   "source": [
    "def model(y, t):\n",
    "    theta1, theta2, theta3 = y\n",
    "    dydt = [theta2, theta3, -0.5*theta1*theta3]\n",
    "    return dydt"
   ]
  },
  {
   "cell_type": "code",
   "execution_count": 33,
   "id": "11ca3dfe",
   "metadata": {
    "ExecuteTime": {
     "end_time": "2022-11-18T13:18:41.894176Z",
     "start_time": "2022-11-18T13:18:41.880164Z"
    }
   },
   "outputs": [],
   "source": [
    "t = np.linspace(0, 5, 1000)\n",
    "sol = odeint(model, [0, 0, 1], t)"
   ]
  },
  {
   "cell_type": "code",
   "execution_count": 34,
   "id": "decf03c3",
   "metadata": {
    "ExecuteTime": {
     "end_time": "2022-11-18T13:18:42.084926Z",
     "start_time": "2022-11-18T13:18:42.009909Z"
    }
   },
   "outputs": [
    {
     "data": {
      "image/png": "[encoded data removed]",
      "text/plain": [
       "<Figure size 432x288 with 1 Axes>"
      ]
     },
     "metadata": {
      "needs_background": "light"
     },
     "output_type": "display_data"
    }
   ],
   "source": [
    "plt.plot(t,sol[:,1], label=\"u\")\n",
    "plt.grid()\n",
    "plt.legend();"
   ]
  },
  {
   "cell_type": "code",
   "execution_count": null,
   "id": "1c6f32f1",
   "metadata": {},
   "outputs": [],
   "source": []
  },
  {
   "cell_type": "code",
   "execution_count": 35,
   "id": "aa9303d7",
   "metadata": {
    "ExecuteTime": {
     "end_time": "2022-11-18T13:19:04.198270Z",
     "start_time": "2022-11-18T13:19:04.184267Z"
    }
   },
   "outputs": [],
   "source": [
    "def rungekutta4(f, y0, t):\n",
    "    n = len(t)\n",
    "    y = np.zeros((n, len(y0)))\n",
    "    y[0] = y0\n",
    "    for i in range(n - 1):\n",
    "        h = t[i+1] - t[i]\n",
    "        k1 = np.array(f(y[i], t[i]))\n",
    "        k2 = np.array(f(y[i] + k1 * h / 2, t[i] + h / 2))\n",
    "        k3 = np.array(f(y[i] + k2 * h / 2, t[i] + h / 2))\n",
    "        k4 = f(y[i] + k3 * h, t[i] + h)\n",
    "        y[i+1] = y[i] + (h / 6) * (k1 + 2*k2 + 2*k3 + k4)\n",
    "    return y"
   ]
  },
  {
   "cell_type": "code",
   "execution_count": 36,
   "id": "baaf7cee",
   "metadata": {
    "ExecuteTime": {
     "end_time": "2022-11-18T13:19:04.467540Z",
     "start_time": "2022-11-18T13:19:04.436534Z"
    }
   },
   "outputs": [],
   "source": [
    "t2 = np.linspace(0, 5, 1000)\n",
    "y0 = np.array([0, 0, 1])\n",
    "sol2 = rungekutta4(model, y0, t2)"
   ]
  },
  {
   "cell_type": "code",
   "execution_count": 37,
   "id": "abf8ea51",
   "metadata": {
    "ExecuteTime": {
     "end_time": "2022-11-18T13:19:05.003552Z",
     "start_time": "2022-11-18T13:19:04.924534Z"
    }
   },
   "outputs": [
    {
     "data": {
      "image/png": "[encoded data removed]",
      "text/plain": [
       "<Figure size 432x288 with 1 Axes>"
      ]
     },
     "metadata": {
      "needs_background": "light"
     },
     "output_type": "display_data"
    }
   ],
   "source": [
    "plt.plot(t2, sol2[:, 1], label='u')\n",
    "plt.legend(loc='best')\n",
    "plt.grid()\n",
    "plt.show()"
   ]
  },
  {
   "cell_type": "code",
   "execution_count": null,
   "id": "1765ac37",
   "metadata": {},
   "outputs": [],
   "source": []
  }
 ],
 "metadata": {
  "kernelspec": {
   "display_name": "Python 3 (ipykernel)",
   "language": "python",
   "name": "python3"
  },
  "language_info": {
   "codemirror_mode": {
    "name": "ipython",
    "version": 3
   },
   "file_extension": ".py",
   "mimetype": "text/x-python",
   "name": "python",
   "nbconvert_exporter": "python",
   "pygments_lexer": "ipython3",
   "version": "3.9.12"
  },
  "latex_envs": {
   "LaTeX_envs_menu_present": true,
   "autoclose": false,
   "autocomplete": true,
   "bibliofile": "biblio.bib",
   "cite_by": "apalike",
   "current_citInitial": 1,
   "eqLabelWithNumbers": true,
   "eqNumInitial": 1,
   "hotkeys": {
    "equation": "Ctrl-E",
    "itemize": "Ctrl-I"
   },
   "labels_anchors": false,
   "latex_user_defs": false,
   "report_style_numbering": false,
   "user_envs_cfg": false
  },
  "varInspector": {
   "cols": {
    "lenName": 16,
    "lenType": 16,
    "lenVar": 40
   },
   "kernels_config": {
    "python": {
     "delete_cmd_postfix": "",
     "delete_cmd_prefix": "del ",
     "library": "var_list.py",
     "varRefreshCmd": "print(var_dic_list())"
    },
    "r": {
     "delete_cmd_postfix": ") ",
     "delete_cmd_prefix": "rm(",
     "library": "var_list.r",
     "varRefreshCmd": "cat(var_dic_list()) "
    }
   },
   "types_to_exclude": [
    "module",
    "function",
    "builtin_function_or_method",
    "instance",
    "_Feature"
   ],
   "window_display": false
  }
 },
 "nbformat": 4,
 "nbformat_minor": 5
}
